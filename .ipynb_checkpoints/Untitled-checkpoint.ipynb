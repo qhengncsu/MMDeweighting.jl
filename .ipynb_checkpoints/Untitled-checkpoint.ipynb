{
 "cells": [
  {
   "cell_type": "code",
   "execution_count": 1,
   "id": "d389957b",
   "metadata": {},
   "outputs": [
    {
     "name": "stderr",
     "output_type": "stream",
     "text": [
      "\u001b[32m\u001b[1m  Activating\u001b[22m\u001b[39m project at `C:\\Users\\hengq\\OneDrive\\Documents\\GitHub\\MMDeweighting.jl`\n"
     ]
    }
   ],
   "source": [
    "using Pkg\n",
    "Pkg.activate(pwd())"
   ]
  },
  {
   "cell_type": "code",
   "execution_count": 3,
   "id": "acb24af9",
   "metadata": {},
   "outputs": [
    {
     "name": "stdout",
     "output_type": "stream",
     "text": [
      "  1.537091 seconds (2.20 M allocations: 149.808 MiB, 3.01% gc time, 99.74% compilation time)\n",
      "  0.003252 seconds (23 allocations: 99.656 KiB)\n"
     ]
    },
    {
     "data": {
      "text/plain": [
       "([0.8741877248672597, 0.09823710074116, 0.08692905223057792, 0.16828018544685805, 0.045331553705249494, 0.130873580413704, 0.12706370020588667, 0.0529872667496666, 0.011005195133281782, 0.0031328323164489524  …  0.16841420426141143, 0.04391847605979573, -0.0029970763254237903, 0.14225874757323642, 0.2169503384818024, 0.07929109957161515, 0.015457219740517355, 0.12258831475633018, 0.12418741265465728, 0.10559852384801854], 0.821213318590435, 24, 0.4088873590502798)"
      ]
     },
     "execution_count": 3,
     "metadata": {},
     "output_type": "execute_result"
    }
   ],
   "source": [
    "using MMDeweighting, Distributions, LinearAlgebra, Statistics\n",
    "# generate data\n",
    "p = 100\n",
    "n = 10*p\n",
    "covM = ones(p,p)\n",
    "for i in 1:p\n",
    "    for j in 1:p\n",
    "        covM[i,j] = 0.7^abs(i-j)\n",
    "    end\n",
    "end\n",
    "d = MvNormal(zeros(p), covM)\n",
    "X = Transpose(rand(d,n))\n",
    "β = 0.1 .* ones(p)\n",
    "d = TDist(1.5)\n",
    "truth =  X*β.+ 1\n",
    "y = truth + rand(d, n) .- Statistics.quantile(d,0.5)\n",
    "X = [ones(n,1) X]\n",
    "h = max(0.05,((log(n)+p)/n)^0.4)\n",
    "#trigger compilation\n",
    "@time (beta, obj, iter, h) = FastQR(X, y, 0.5;tol=1e-6, h=h, verbose=false)\n",
    "#actual excution time\n",
    "@time (beta, obj, iter, h) = FastQR(X, y, 0.5;tol=1e-6, h=h, verbose=false)"
   ]
  },
  {
   "cell_type": "code",
   "execution_count": 8,
   "id": "1d8b1c2b",
   "metadata": {},
   "outputs": [
    {
     "name": "stdout",
     "output_type": "stream",
     "text": [
      " 34.192009 seconds (295.88 k allocations: 1.158 GiB, 0.37% gc time)\n",
      " 35.125493 seconds (299.47 k allocations: 1.172 GiB, 0.30% gc time)\n",
      "  2.508198 seconds (655.07 k allocations: 147.193 MiB, 1.30% gc time, 30.34% compilation time)\n",
      "  1.796344 seconds (39.75 k allocations: 109.942 MiB, 0.85% gc time)\n"
     ]
    },
    {
     "data": {
      "text/plain": [
       "(0.002395026619987486, [3.460034687739589, 0.0, 1.7819506144998856, 0.0, 1.558727477553662, 0.0, 1.296875361932354, 0.0, 1.2772284793627529, 0.0  …  0.0, 0.0, 0.0, 0.0, 0.0, 0.0, 0.0, 0.0, 0.0, 0.0], [2.1004873364854264, 2.10048478340085, 2.1004809954497534, 2.100475382549713, 2.0980017599641725, 2.097456609857925, 2.0972767962141945, 2.099377176254721, 2.100024332040713, 2.0996325555668007  …  0.7685744172672259, 0.757987153456005, 1.0627922070790288, 1.2269151251762829, 1.4088193192387084, 1.7669256596685639, 1.8014234942735858, 1.8031970310586103, 1.8047923666297365, 1.805817922614975])"
      ]
     },
     "execution_count": 8,
     "metadata": {},
     "output_type": "execute_result"
    }
   ],
   "source": [
    "using MMDeweighting, Distributions, LinearAlgebra, Statistics\n",
    "# generate data\n",
    "n = 250\n",
    "p = 500\n",
    "τ = 0.7\n",
    "covM = ones(p,p)\n",
    "for i in 1:p\n",
    "    for j in 1:p\n",
    "        covM[i,j] = 0.7^abs(i-j)\n",
    "    end\n",
    "end\n",
    "d = MvNormal(zeros(p), covM)\n",
    "X = rand(d, n)\n",
    "X = [ones(n) X']\n",
    "β = [[4, 0, 1.8, 0, 1.6, 0, 1.4, 0, 1.2, 0, 1, 0, -1, 0, -1.2, 0, -1.4, 0, -1.6, 0, -1.8]; zeros(p-20)]\n",
    "truth =  X*β\n",
    "# heavy tailed error\n",
    "d = TDist(1.5)\n",
    "y = truth + (0.5.*X[:,end].+1) .*(rand(d, n) .- Statistics.quantile(d,τ))\n",
    "h = max(0.05,sqrt(0.25)*(log(p)/n)^0.25)\n",
    "λs = exp10.(range(1, -4, length=30))\n",
    "ks = [1:1:50;]\n",
    "# trigger compilation: sparse quantile regression using proximal distance principle \n",
    "@time best_k, best_β, mean_errors = CV_SQR(X,y,τ,ks,h=h, nfold=5)\n",
    "# actual computation time: sparse quantile regression using proximal distance principle \n",
    "@time best_k, best_β, mean_errors = CV_SQR(X,y,τ,ks,h=h, nfold=5)\n",
    "# trigger compilation: sparse quantile regression using hard thresholding\n",
    "@time best_λ, best_β, mean_errors = CV_SQR(X,y,τ,λs,h=h, nfold=5)\n",
    "# actual computation time: sparse quantile regression using hard thresholding\n",
    "@time best_λ, best_β, mean_errors = CV_SQR(X,y,τ,λs,h=h, nfold=5)"
   ]
  },
  {
   "cell_type": "code",
   "execution_count": null,
   "id": "41c9f53c",
   "metadata": {},
   "outputs": [],
   "source": []
  }
 ],
 "metadata": {
  "kernelspec": {
   "display_name": "Julia 1.9.3",
   "language": "julia",
   "name": "julia-1.9"
  },
  "language_info": {
   "file_extension": ".jl",
   "mimetype": "application/julia",
   "name": "julia",
   "version": "1.9.3"
  }
 },
 "nbformat": 4,
 "nbformat_minor": 5
}
